{
  "nbformat": 4,
  "nbformat_minor": 0,
  "metadata": {
    "kernelspec": {
      "display_name": "Python 3.7.6 64-bit",
      "language": "python",
      "name": "python37664bitc19aeaa1b3c44a0185e775a55f3e087c"
    },
    "language_info": {
      "codemirror_mode": {
        "name": "ipython",
        "version": 3
      },
      "file_extension": ".py",
      "mimetype": "text/x-python",
      "name": "python",
      "nbconvert_exporter": "python",
      "pygments_lexer": "ipython3",
      "version": "3.7.6"
    },
    "colab": {
      "name": "notebook.ipynb",
      "provenance": []
    }
  },
  "cells": [
    {
      "cell_type": "markdown",
      "metadata": {
        "id": "gdVP543aJT9s",
        "colab_type": "text"
      },
      "source": [
        "# A new markdown\n",
        "\n",
        "We show an image\n",
        "\n",
        "<img src=\"https://github.com/andcastillo/colabex/blob/master/PC.png?raw=1\" width=\"400px\">"
      ]
    },
    {
      "cell_type": "code",
      "metadata": {
        "id": "MjEagRi8JT9t",
        "colab_type": "code",
        "colab": {}
      },
      "source": [
        "# Run this cell in Colab for the first time\n",
        "!rm -rf colabex\n",
        "!git clone https://github.com/andcastillo/colabex.git\n",
        "import os\n",
        "os.chdir('colabex')\n",
        "# hsdahad\n",
        "#dsadsadad"
      ],
      "execution_count": null,
      "outputs": []
    },
    {
      "cell_type": "code",
      "metadata": {
        "id": "aJhlxXNDJT9x",
        "colab_type": "code",
        "colab": {}
      },
      "source": [
        "# Load the Pandas libraries with alias 'pd' \n",
        "import pandas as pd \n",
        "import matplotlib.pyplot as plt\n",
        "# Read data from file 'filename.csv' \n",
        "# (in the same directory that your python process is based)\n",
        "# Control delimiters, rows, column names with read_csv (see later) \n",
        "data = pd.read_csv(\"iris.csv\") \n",
        "# Preview the first 5 lines of the loaded data \n",
        "data.head()"
      ],
      "execution_count": null,
      "outputs": []
    },
    {
      "cell_type": "code",
      "metadata": {
        "id": "UH9jQnhtJT91",
        "colab_type": "code",
        "colab": {}
      },
      "source": [
        "plt.scatter(data['sepal.length'], data['sepal.width'])"
      ],
      "execution_count": null,
      "outputs": []
    },
    {
      "cell_type": "code",
      "metadata": {
        "id": "IwDC0cOSJT94",
        "colab_type": "code",
        "colab": {}
      },
      "source": [
        "data.to_csv('iris2.cvs', index=True)"
      ],
      "execution_count": null,
      "outputs": []
    },
    {
      "cell_type": "code",
      "metadata": {
        "id": "7z2fNZurJT97",
        "colab_type": "code",
        "colab": {}
      },
      "source": [
        "!ls"
      ],
      "execution_count": null,
      "outputs": []
    }
  ]
}